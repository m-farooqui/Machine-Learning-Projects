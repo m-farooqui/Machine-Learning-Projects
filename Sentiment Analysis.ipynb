{
 "cells": [
  {
   "cell_type": "code",
   "execution_count": 1,
   "id": "7f947cbd",
   "metadata": {},
   "outputs": [
    {
     "name": "stderr",
     "output_type": "stream",
     "text": [
      "[nltk_data] Downloading package vader_lexicon to\n",
      "[nltk_data]     C:\\Users\\Owner\\AppData\\Roaming\\nltk_data...\n",
      "[nltk_data]   Package vader_lexicon is already up-to-date!\n"
     ]
    },
    {
     "data": {
      "text/plain": [
       "True"
      ]
     },
     "execution_count": 1,
     "metadata": {},
     "output_type": "execute_result"
    }
   ],
   "source": [
    "import re\n",
    "import pandas as pd\n",
    "import matplotlib.pyplot as plt\n",
    "import nltk\n",
    "from nltk.sentiment.vader import SentimentIntensityAnalyzer\n",
    "nltk.download('vader_lexicon')"
   ]
  },
  {
   "cell_type": "code",
   "execution_count": 2,
   "id": "4613618f",
   "metadata": {},
   "outputs": [
    {
     "name": "stdout",
     "output_type": "stream",
     "text": [
      "                                            Response  row_id\n",
      "0  Ok last time I reviewed I gave this a 3/5. It’...       1\n",
      "1  Earlier was better. I got lucky that when I fi...       2\n",
      "2  Alhamdulilah, I got a lot of amazing matches a...       3\n",
      "3  I get likes all the time. I respond fairly qui...       4\n",
      "4  This app has improved a lot since I first down...       5\n",
      "5  The only beef I have with this app is the filt...       6\n",
      "6  There are just so many abandoned profiles. The...       7\n",
      "7  The app is cool and is definitely one my favor...       8\n",
      "8  I loved this app because it gave me access to ...       9\n",
      "9  Lovely app. Much thanks to the developers. I h...      10\n"
     ]
    }
   ],
   "source": [
    "#df = pd.read_excel (r'Path where the Excel file is stored\\File name.xlsx')\n",
    "df = pd.read_excel ('C:/Users/Owner/OneDrive/Documents/Muzmatch Reviews.xlsx')\n",
    "# adding an row_id field to the dataframe, which will be useful for joining later\n",
    "df[\"row_id\"] = df.index + 1\n",
    "#print first 10 rows \n",
    "print (df.head(10))"
   ]
  },
  {
   "cell_type": "code",
   "execution_count": 3,
   "id": "fe26ad3e",
   "metadata": {},
   "outputs": [
    {
     "name": "stdout",
     "output_type": "stream",
     "text": [
      "   row_id                                           Response\n",
      "0       1  ok last time i reviewed i gave this a      it ...\n",
      "1       2  earlier was better  i got lucky that when i fi...\n",
      "2       3  alhamdulilah  i got a lot of amazing matches a...\n",
      "3       4  i get likes all the time  i respond fairly qui...\n",
      "4       5  this app has improved a lot since i first down...\n",
      "5       6  the only beef i have with this app is the filt...\n",
      "6       7  there are just so many abandoned profiles  the...\n",
      "7       8  the app is cool and is definitely one my favor...\n",
      "8       9  i loved this app because it gave me access to ...\n",
      "9      10  lovely app  much thanks to the developers  i h...\n"
     ]
    },
    {
     "name": "stderr",
     "output_type": "stream",
     "text": [
      "C:\\Users\\Owner\\AppData\\Local\\Temp/ipykernel_20892/378196962.py:5: FutureWarning: The default value of regex will change from True to False in a future version.\n",
      "  df_subset['Response'] = df_subset['Response'].str.replace(\"[^a-zA-Z#]\", \" \")\n"
     ]
    }
   ],
   "source": [
    "#create a new data frame with \"id\" and \"comment\" fields\n",
    "df_subset = df[['row_id', 'Response']].copy()\n",
    "#data clean-up\n",
    "#remove all non-aphabet characters\n",
    "df_subset['Response'] = df_subset['Response'].str.replace(\"[^a-zA-Z#]\", \" \")\n",
    "#covert to lower-case\n",
    "df_subset['Response'] = df_subset['Response'].str.casefold()\n",
    "print (df_subset.head(10))"
   ]
  },
  {
   "cell_type": "code",
   "execution_count": 4,
   "id": "542e7fd5",
   "metadata": {},
   "outputs": [],
   "source": [
    "# set up empty dataframe for staging output\n",
    "df1=pd.DataFrame()\n",
    "df1['row_id']=['99999999999']\n",
    "df1['sentiment_type']='NA999NA'\n",
    "df1['sentiment_score']=0"
   ]
  },
  {
   "cell_type": "code",
   "execution_count": 5,
   "id": "81eb036c",
   "metadata": {},
   "outputs": [
    {
     "name": "stdout",
     "output_type": "stream",
     "text": [
      "Processing sentiment analysis...\n",
      "   row_id sentiment_type  sentiment_score\n",
      "0       1       compound           0.9909\n",
      "0       2       compound           0.9534\n",
      "0       3       compound           0.9968\n",
      "0       4       compound           0.8516\n",
      "0       5       compound           0.3818\n",
      "0       6       compound           0.2960\n",
      "0       7       compound           0.8062\n",
      "0       8       compound           0.9719\n",
      "0       9       compound          -0.6382\n",
      "0      10       compound           0.9093\n"
     ]
    }
   ],
   "source": [
    "print('Processing sentiment analysis...')\n",
    "sid = SentimentIntensityAnalyzer()\n",
    "t_df = df1\n",
    "for index, row in df_subset.iterrows():\n",
    "    scores = sid.polarity_scores(row[1])\n",
    "    for key, value in scores.items():\n",
    "        temp = [key,value,row[0]]\n",
    "        df1['row_id']=row[0]\n",
    "        df1['sentiment_type']=key\n",
    "        df1['sentiment_score']=value\n",
    "        t_df=t_df.append(df1)\n",
    "#remove dummy row with row_id = 99999999999\n",
    "t_df_cleaned = t_df[t_df.row_id != '99999999999']\n",
    "#remove duplicates if any exist\n",
    "t_df_cleaned = t_df_cleaned.drop_duplicates()\n",
    "# only keep rows where sentiment_type = compound\n",
    "t_df_cleaned = t_df[t_df.sentiment_type == 'compound']\n",
    "print(t_df_cleaned.head(10))"
   ]
  },
  {
   "cell_type": "code",
   "execution_count": 6,
   "id": "76c95f8c",
   "metadata": {},
   "outputs": [
    {
     "name": "stdout",
     "output_type": "stream",
     "text": [
      "                                            Response  row_id sentiment_type  \\\n",
      "0  Ok last time I reviewed I gave this a 3/5. It’...       1       compound   \n",
      "1  Earlier was better. I got lucky that when I fi...       2       compound   \n",
      "2  Alhamdulilah, I got a lot of amazing matches a...       3       compound   \n",
      "3  I get likes all the time. I respond fairly qui...       4       compound   \n",
      "4  This app has improved a lot since I first down...       5       compound   \n",
      "5  The only beef I have with this app is the filt...       6       compound   \n",
      "6  There are just so many abandoned profiles. The...       7       compound   \n",
      "7  The app is cool and is definitely one my favor...       8       compound   \n",
      "8  I loved this app because it gave me access to ...       9       compound   \n",
      "9  Lovely app. Much thanks to the developers. I h...      10       compound   \n",
      "\n",
      "   sentiment_score  \n",
      "0           0.9909  \n",
      "1           0.9534  \n",
      "2           0.9968  \n",
      "3           0.8516  \n",
      "4           0.3818  \n",
      "5           0.2960  \n",
      "6           0.8062  \n",
      "7           0.9719  \n",
      "8          -0.6382  \n",
      "9           0.9093  \n"
     ]
    }
   ],
   "source": [
    "#merge dataframes\n",
    "df_output = pd.merge(df, t_df_cleaned, on='row_id', how='inner')\n",
    "print(df_output.head(10))"
   ]
  },
  {
   "cell_type": "code",
   "execution_count": 7,
   "id": "4aa8cad5",
   "metadata": {},
   "outputs": [
    {
     "data": {
      "text/html": [
       "<div>\n",
       "<style scoped>\n",
       "    .dataframe tbody tr th:only-of-type {\n",
       "        vertical-align: middle;\n",
       "    }\n",
       "\n",
       "    .dataframe tbody tr th {\n",
       "        vertical-align: top;\n",
       "    }\n",
       "\n",
       "    .dataframe thead th {\n",
       "        text-align: right;\n",
       "    }\n",
       "</style>\n",
       "<table border=\"1\" class=\"dataframe\">\n",
       "  <thead>\n",
       "    <tr style=\"text-align: right;\">\n",
       "      <th></th>\n",
       "      <th>sentiment_score</th>\n",
       "    </tr>\n",
       "  </thead>\n",
       "  <tbody>\n",
       "    <tr>\n",
       "      <th>count</th>\n",
       "      <td>38.000000</td>\n",
       "    </tr>\n",
       "    <tr>\n",
       "      <th>mean</th>\n",
       "      <td>0.445568</td>\n",
       "    </tr>\n",
       "    <tr>\n",
       "      <th>std</th>\n",
       "      <td>0.622068</td>\n",
       "    </tr>\n",
       "    <tr>\n",
       "      <th>min</th>\n",
       "      <td>-0.959000</td>\n",
       "    </tr>\n",
       "    <tr>\n",
       "      <th>25%</th>\n",
       "      <td>0.296000</td>\n",
       "    </tr>\n",
       "    <tr>\n",
       "      <th>50%</th>\n",
       "      <td>0.751550</td>\n",
       "    </tr>\n",
       "    <tr>\n",
       "      <th>75%</th>\n",
       "      <td>0.905750</td>\n",
       "    </tr>\n",
       "    <tr>\n",
       "      <th>max</th>\n",
       "      <td>0.996800</td>\n",
       "    </tr>\n",
       "  </tbody>\n",
       "</table>\n",
       "</div>"
      ],
      "text/plain": [
       "       sentiment_score\n",
       "count        38.000000\n",
       "mean          0.445568\n",
       "std           0.622068\n",
       "min          -0.959000\n",
       "25%           0.296000\n",
       "50%           0.751550\n",
       "75%           0.905750\n",
       "max           0.996800"
      ]
     },
     "execution_count": 7,
     "metadata": {},
     "output_type": "execute_result"
    }
   ],
   "source": [
    "df_output[[\"sentiment_score\"]].describe()"
   ]
  },
  {
   "cell_type": "code",
   "execution_count": 8,
   "id": "bcef0512",
   "metadata": {},
   "outputs": [
    {
     "data": {
      "text/plain": [
       "<AxesSubplot:>"
      ]
     },
     "execution_count": 8,
     "metadata": {},
     "output_type": "execute_result"
    },
    {
     "data": {
      "image/png": "[encoded data removed]",
      "text/plain": [
       "<Figure size 432x288 with 1 Axes>"
      ]
     },
     "metadata": {
      "needs_background": "light"
     },
     "output_type": "display_data"
    }
   ],
   "source": [
    "df_output[[\"sentiment_score\"]].plot()"
   ]
  },
  {
   "cell_type": "code",
   "execution_count": null,
   "id": "6617823f",
   "metadata": {},
   "outputs": [],
   "source": []
  }
 ],
 "metadata": {
  "kernelspec": {
   "display_name": "Python 3 (ipykernel)",
   "language": "python",
   "name": "python3"
  },
  "language_info": {
   "codemirror_mode": {
    "name": "ipython",
    "version": 3
   },
   "file_extension": ".py",
   "mimetype": "text/x-python",
   "name": "python",
   "nbconvert_exporter": "python",
   "pygments_lexer": "ipython3",
   "version": "3.9.7"
  }
 },
 "nbformat": 4,
 "nbformat_minor": 5
}
