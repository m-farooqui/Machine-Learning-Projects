{
 "cells": [
  {
   "cell_type": "code",
   "execution_count": null,
   "id": "cd83b7ed-7936-4cc2-8ccc-4cf88726c098",
   "metadata": {},
   "outputs": [],
   "source": [
    "#import the modules and read the dataset and look at some values data.isnull().sum()\n",
    "import numpy as np\n",
    "import pandas as pd\n",
    "data = pd.read_csv(\"Health_insurance.csv\")\n",
    "data.head()"
   ]
  },
  {
   "cell_type": "code",
   "execution_count": null,
   "id": "3eccd2ae-1363-4c94-9ad5-d0899f17052e",
   "metadata": {},
   "outputs": [],
   "source": [
    "#Try to see if there are any null values in the dataset\n",
    "data.isnull().sum()"
   ]
  },
  {
   "cell_type": "code",
   "execution_count": null,
   "id": "03772f2a-5b56-4253-af36-abd43b261861",
   "metadata": {},
   "outputs": [],
   "source": [
    "# distrubtion of people who smoke or don't smoke\n",
    "import plotly.express as px\n",
    "data = data\n",
    "figure = px.histogram(data, x = \"sex\", color = \"smoker\", title= \"Number of Smokers\")\n",
    "figure.show()"
   ]
  },
  {
   "cell_type": "code",
   "execution_count": null,
   "id": "ae128f84-833c-45a2-8ae4-97ff74c566d3",
   "metadata": {},
   "outputs": [],
   "source": [
    "#To train the machine learning model change the string values from the column \"Sex\" and \"Smoker\" to numerical values 0 and 1\n",
    "data[\"sex\"] = data[\"sex\"].map({\"female\": 0, \"male\": 1})\n",
    "data[\"smoker\"] = data[\"smoker\"].map({\"no\": 0, \"yes\": 1})\n",
    "print(data.head())"
   ]
  },
  {
   "cell_type": "code",
   "execution_count": null,
   "id": "80d3f83e-2175-423d-84dc-20a96072294c",
   "metadata": {},
   "outputs": [],
   "source": [
    "#distribution of the regions where people are living according to the dataset\n",
    "import plotly.express as px\n",
    "pie = data[\"region\"].value_counts()\n",
    "regions = pie.index\n",
    "population = pie.values\n",
    "fig = px.pie(data, values=population, names=regions)"
   ]
  },
  {
   "cell_type": "code",
   "execution_count": null,
   "id": "c13d9464-36a6-49cf-843c-8bacfecbc293",
   "metadata": {},
   "outputs": [],
   "source": [
    "#correlation between the features of this dataset\n",
    "print(data.corr())"
   ]
  },
  {
   "cell_type": "code",
   "execution_count": null,
   "id": "97d95bd0-2ccc-43dd-8575-be2a65262cda",
   "metadata": {},
   "outputs": [],
   "source": [
    "#split the data into training and test sets\n",
    "x = np.array(data[[\"age\", \"sex\", \"bmi\", \"smoker\"]])\n",
    "y = np.array(data[\"charges\"])\n",
    "\n",
    "from sklearn.model_selection import train_test_split\n",
    "xtrain, xtest, ytrain, ytest = train_test_split(x, y, test_size=0.2, random_state=42)"
   ]
  },
  {
   "cell_type": "code",
   "execution_count": null,
   "id": "ba68059e-08bc-4e8c-a400-baadcaaad535",
   "metadata": {},
   "outputs": [],
   "source": [
    "#random forest regression algorithm\n",
    "from sklearn.ensemble import RandomForestRegressor\n",
    "forest = RandomForestRegressor()\n",
    "forest.fit(xtrain, ytrain)"
   ]
  },
  {
   "cell_type": "code",
   "execution_count": null,
   "id": "faee3879-5838-4e1e-a758-4fc1a684e8c4",
   "metadata": {},
   "outputs": [],
   "source": [
    "#predicted values of the model\n",
    "ypred = forest.predict(xtest)\n",
    "data = pd.DataFrame(data={\"Predicted Premium Amount\": ypred})\n",
    "print(data.head())"
   ]
  }
 ],
 "metadata": {
  "kernelspec": {
   "display_name": "Python 3 (ipykernel)",
   "language": "python",
   "name": "python3"
  },
  "language_info": {
   "codemirror_mode": {
    "name": "ipython",
    "version": 3
   },
   "file_extension": ".py",
   "mimetype": "text/x-python",
   "name": "python",
   "nbconvert_exporter": "python",
   "pygments_lexer": "ipython3",
   "version": "3.9.18"
  }
 },
 "nbformat": 4,
 "nbformat_minor": 5
}
