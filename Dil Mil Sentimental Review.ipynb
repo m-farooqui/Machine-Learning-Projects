{
 "cells": [
  {
   "cell_type": "code",
   "execution_count": 1,
   "id": "940cc168",
   "metadata": {},
   "outputs": [
    {
     "name": "stderr",
     "output_type": "stream",
     "text": [
      "[nltk_data] Downloading package vader_lexicon to\n",
      "[nltk_data]     C:\\Users\\Owner\\AppData\\Roaming\\nltk_data...\n",
      "[nltk_data]   Package vader_lexicon is already up-to-date!\n"
     ]
    },
    {
     "data": {
      "text/plain": [
       "True"
      ]
     },
     "execution_count": 1,
     "metadata": {},
     "output_type": "execute_result"
    }
   ],
   "source": [
    "import re\n",
    "import pandas as pd\n",
    "import matplotlib.pyplot as plt\n",
    "import nltk\n",
    "from nltk.sentiment.vader import SentimentIntensityAnalyzer\n",
    "nltk.download('vader_lexicon')"
   ]
  },
  {
   "cell_type": "code",
   "execution_count": 2,
   "id": "9b8566a0",
   "metadata": {},
   "outputs": [
    {
     "name": "stdout",
     "output_type": "stream",
     "text": [
      "                                            Response  row_id\n",
      "0  pros: they are adding more features. I really ...       1\n",
      "1  I am in LOVE with this app. Ive never tried a ...       2\n",
      "2  It's okay, wish it had an option to set a dist...       3\n",
      "3  It’s a good idea but needs lot of tweaks. The ...       4\n",
      "4  I always thought these dating apps are a mimic...       5\n",
      "5  If you are worried about fake accounts, facebo...       6\n",
      "6  I have all the good things to say about the ap...       7\n",
      "7  This app is solid in theory and clearly someon...       8\n",
      "8  For over a year, I’ve been trying to get the s...       9\n",
      "9  I had a great experience with using Dil Mil! I...      10\n"
     ]
    }
   ],
   "source": [
    "#df = pd.read_excel (r'Path where the Excel file is stored\\File name.xlsx')\n",
    "df = pd.read_excel ('C:/Users/Owner/OneDrive/Documents/Dil Mil Review.xlsx')\n",
    "# adding an row_id field to the dataframe, which will be useful for joining later\n",
    "df[\"row_id\"] = df.index + 1\n",
    "#print first 10 rows \n",
    "print (df.head(10))"
   ]
  },
  {
   "cell_type": "code",
   "execution_count": 3,
   "id": "42429e83",
   "metadata": {},
   "outputs": [
    {
     "name": "stdout",
     "output_type": "stream",
     "text": [
      "   row_id                                           Response\n",
      "0       1  pros  they are adding more features  i really ...\n",
      "1       2  i am in love with this app  ive never tried a ...\n",
      "2       3  it s okay  wish it had an option to set a dist...\n",
      "3       4  it s a good idea but needs lot of tweaks  the ...\n",
      "4       5  i always thought these dating apps are a mimic...\n",
      "5       6  if you are worried about fake accounts  facebo...\n",
      "6       7  i have all the good things to say about the ap...\n",
      "7       8  this app is solid in theory and clearly someon...\n",
      "8       9  for over a year  i ve been trying to get the s...\n",
      "9      10  i had a great experience with using dil mil  i...\n"
     ]
    },
    {
     "name": "stderr",
     "output_type": "stream",
     "text": [
      "C:\\Users\\Owner\\AppData\\Local\\Temp/ipykernel_20236/378196962.py:5: FutureWarning: The default value of regex will change from True to False in a future version.\n",
      "  df_subset['Response'] = df_subset['Response'].str.replace(\"[^a-zA-Z#]\", \" \")\n"
     ]
    }
   ],
   "source": [
    "#create a new data frame with \"id\" and \"comment\" fields\n",
    "df_subset = df[['row_id', 'Response']].copy()\n",
    "#data clean-up\n",
    "#remove all non-aphabet characters\n",
    "df_subset['Response'] = df_subset['Response'].str.replace(\"[^a-zA-Z#]\", \" \")\n",
    "#covert to lower-case\n",
    "df_subset['Response'] = df_subset['Response'].str.casefold()\n",
    "print (df_subset.head(10))"
   ]
  },
  {
   "cell_type": "code",
   "execution_count": 4,
   "id": "ac4850e3",
   "metadata": {},
   "outputs": [],
   "source": [
    "# set up empty dataframe for staging output\n",
    "df1=pd.DataFrame()\n",
    "df1['row_id']=['99999999999']\n",
    "df1['sentiment_type']='NA999NA'\n",
    "df1['sentiment_score']=0"
   ]
  },
  {
   "cell_type": "code",
   "execution_count": 5,
   "id": "d754c391",
   "metadata": {},
   "outputs": [
    {
     "name": "stdout",
     "output_type": "stream",
     "text": [
      "Processing sentiment analysis...\n",
      "   row_id sentiment_type  sentiment_score\n",
      "0       1       compound           0.8802\n",
      "0       2       compound           0.8837\n",
      "0       3       compound          -0.2382\n",
      "0       4       compound           0.8272\n",
      "0       5       compound           0.9432\n",
      "0       6       compound          -0.9264\n",
      "0       7       compound           0.9768\n",
      "0       8       compound          -0.8899\n",
      "0       9       compound           0.9565\n",
      "0      10       compound           0.9784\n"
     ]
    }
   ],
   "source": [
    "print('Processing sentiment analysis...')\n",
    "sid = SentimentIntensityAnalyzer()\n",
    "t_df = df1\n",
    "for index, row in df_subset.iterrows():\n",
    "    scores = sid.polarity_scores(row[1])\n",
    "    for key, value in scores.items():\n",
    "        temp = [key,value,row[0]]\n",
    "        df1['row_id']=row[0]\n",
    "        df1['sentiment_type']=key\n",
    "        df1['sentiment_score']=value\n",
    "        t_df=t_df.append(df1)\n",
    "#remove dummy row with row_id = 99999999999\n",
    "t_df_cleaned = t_df[t_df.row_id != '99999999999']\n",
    "#remove duplicates if any exist\n",
    "t_df_cleaned = t_df_cleaned.drop_duplicates()\n",
    "# only keep rows where sentiment_type = compound\n",
    "t_df_cleaned = t_df[t_df.sentiment_type == 'compound']\n",
    "print(t_df_cleaned.head(10))"
   ]
  },
  {
   "cell_type": "code",
   "execution_count": 6,
   "id": "1309503c",
   "metadata": {},
   "outputs": [
    {
     "name": "stdout",
     "output_type": "stream",
     "text": [
      "                                            Response  row_id sentiment_type  \\\n",
      "0  pros: they are adding more features. I really ...       1       compound   \n",
      "1  I am in LOVE with this app. Ive never tried a ...       2       compound   \n",
      "2  It's okay, wish it had an option to set a dist...       3       compound   \n",
      "3  It’s a good idea but needs lot of tweaks. The ...       4       compound   \n",
      "4  I always thought these dating apps are a mimic...       5       compound   \n",
      "5  If you are worried about fake accounts, facebo...       6       compound   \n",
      "6  I have all the good things to say about the ap...       7       compound   \n",
      "7  This app is solid in theory and clearly someon...       8       compound   \n",
      "8  For over a year, I’ve been trying to get the s...       9       compound   \n",
      "9  I had a great experience with using Dil Mil! I...      10       compound   \n",
      "\n",
      "   sentiment_score  \n",
      "0           0.8802  \n",
      "1           0.8837  \n",
      "2          -0.2382  \n",
      "3           0.8272  \n",
      "4           0.9432  \n",
      "5          -0.9264  \n",
      "6           0.9768  \n",
      "7          -0.8899  \n",
      "8           0.9565  \n",
      "9           0.9784  \n"
     ]
    }
   ],
   "source": [
    "#merge dataframes\n",
    "df_output = pd.merge(df, t_df_cleaned, on='row_id', how='inner')\n",
    "print(df_output.head(10))"
   ]
  },
  {
   "cell_type": "code",
   "execution_count": 7,
   "id": "d7be417c",
   "metadata": {},
   "outputs": [
    {
     "data": {
      "text/html": [
       "<div>\n",
       "<style scoped>\n",
       "    .dataframe tbody tr th:only-of-type {\n",
       "        vertical-align: middle;\n",
       "    }\n",
       "\n",
       "    .dataframe tbody tr th {\n",
       "        vertical-align: top;\n",
       "    }\n",
       "\n",
       "    .dataframe thead th {\n",
       "        text-align: right;\n",
       "    }\n",
       "</style>\n",
       "<table border=\"1\" class=\"dataframe\">\n",
       "  <thead>\n",
       "    <tr style=\"text-align: right;\">\n",
       "      <th></th>\n",
       "      <th>sentiment_score</th>\n",
       "    </tr>\n",
       "  </thead>\n",
       "  <tbody>\n",
       "    <tr>\n",
       "      <th>count</th>\n",
       "      <td>40.000000</td>\n",
       "    </tr>\n",
       "    <tr>\n",
       "      <th>mean</th>\n",
       "      <td>0.302465</td>\n",
       "    </tr>\n",
       "    <tr>\n",
       "      <th>std</th>\n",
       "      <td>0.720139</td>\n",
       "    </tr>\n",
       "    <tr>\n",
       "      <th>min</th>\n",
       "      <td>-0.926400</td>\n",
       "    </tr>\n",
       "    <tr>\n",
       "      <th>25%</th>\n",
       "      <td>-0.437500</td>\n",
       "    </tr>\n",
       "    <tr>\n",
       "      <th>50%</th>\n",
       "      <td>0.730100</td>\n",
       "    </tr>\n",
       "    <tr>\n",
       "      <th>75%</th>\n",
       "      <td>0.902800</td>\n",
       "    </tr>\n",
       "    <tr>\n",
       "      <th>max</th>\n",
       "      <td>0.997200</td>\n",
       "    </tr>\n",
       "  </tbody>\n",
       "</table>\n",
       "</div>"
      ],
      "text/plain": [
       "       sentiment_score\n",
       "count        40.000000\n",
       "mean          0.302465\n",
       "std           0.720139\n",
       "min          -0.926400\n",
       "25%          -0.437500\n",
       "50%           0.730100\n",
       "75%           0.902800\n",
       "max           0.997200"
      ]
     },
     "execution_count": 7,
     "metadata": {},
     "output_type": "execute_result"
    }
   ],
   "source": [
    "df_output[[\"sentiment_score\"]].describe()"
   ]
  },
  {
   "cell_type": "code",
   "execution_count": 8,
   "id": "51bf4047",
   "metadata": {},
   "outputs": [
    {
     "data": {
      "text/plain": [
       "<AxesSubplot:>"
      ]
     },
     "execution_count": 8,
     "metadata": {},
     "output_type": "execute_result"
    },
    {
     "data": {
      "image/png": "[encoded data removed]",
      "text/plain": [
       "<Figure size 432x288 with 1 Axes>"
      ]
     },
     "metadata": {
      "needs_background": "light"
     },
     "output_type": "display_data"
    }
   ],
   "source": [
    "df_output[[\"sentiment_score\"]].plot()"
   ]
  },
  {
   "cell_type": "code",
   "execution_count": null,
   "id": "bbf59959",
   "metadata": {},
   "outputs": [],
   "source": []
  }
 ],
 "metadata": {
  "kernelspec": {
   "display_name": "Python 3 (ipykernel)",
   "language": "python",
   "name": "python3"
  },
  "language_info": {
   "codemirror_mode": {
    "name": "ipython",
    "version": 3
   },
   "file_extension": ".py",
   "mimetype": "text/x-python",
   "name": "python",
   "nbconvert_exporter": "python",
   "pygments_lexer": "ipython3",
   "version": "3.9.7"
  }
 },
 "nbformat": 4,
 "nbformat_minor": 5
}
